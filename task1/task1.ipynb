{
 "cells": [
  {
   "cell_type": "code",
   "execution_count": 39,
   "id": "accd5c4f",
   "metadata": {},
   "outputs": [],
   "source": [
    "import re\n",
    "import urllib.request\n",
    "import csv"
   ]
  },
  {
   "cell_type": "code",
   "execution_count": 40,
   "id": "f570de0a",
   "metadata": {},
   "outputs": [],
   "source": [
    "# Function to extract job details from HTML using regular expressions\n",
    "def extract_job_details(html_content):\n",
    "    jobs = []\n",
    "    job_pattern = re.compile(r'<div class=\"card\">.*?<h2 class=\"job-title\">(.*?)</h2>.*?<h3 class=\"job-company\">(.*?)</h3>.*?<span class=\"location\">(.*?)</span>', re.DOTALL)\n",
    "    job_matches = job_pattern.findall(html_content)\n",
    "    for match in job_matches:\n",
    "        job_title, company_name, location = match\n",
    "        jobs.append([job_title.strip(), company_name.strip(), location.strip()])\n",
    "    return jobs"
   ]
  },
  {
   "cell_type": "code",
   "execution_count": 41,
   "id": "4f2ec2c4",
   "metadata": {},
   "outputs": [],
   "source": [
    "# Function to write job details into a CSV file\n",
    "def write_to_csv(jobs, filename):\n",
    "    with open(filename, 'w', newline='', encoding='utf-8') as csvfile:\n",
    "        fieldnames = ['Job Title', 'Company Name', 'Location']\n",
    "        writer = csv.DictWriter(csvfile, fieldnames=fieldnames)\n",
    "        writer.writeheader()\n",
    "        for job in jobs:\n",
    "            writer.writerow({'Job Title': job[0], 'Company Name': job[1], 'Location': job[2]})\n"
   ]
  },
  {
   "cell_type": "code",
   "execution_count": 42,
   "id": "e9e1c4cc",
   "metadata": {},
   "outputs": [],
   "source": [
    "# URL of the website\n",
    "url = 'https://www.jobsnepal.com/'\n"
   ]
  },
  {
   "cell_type": "code",
   "execution_count": 43,
   "id": "fbb32de6",
   "metadata": {},
   "outputs": [
    {
     "name": "stdout",
     "output_type": "stream",
     "text": [
      "CSV file created successfully!\n"
     ]
    }
   ],
   "source": [
    "# Fetch HTML content\n",
    "response = requests.get(url)\n",
    "if response.status_code == 200:\n",
    "    html_content = response.text\n",
    "\n",
    "    # Extract job details\n",
    "    jobs = extract_job_details(html_content)\n",
    "\n",
    "    # Write job details to CSV\n",
    "    write_to_csv(jobs, 'jobs.csv')\n",
    "    print(\"CSV file created successfully!\")\n",
    "else:\n",
    "    print(\"Failed to fetch HTML content.\")"
   ]
  },
  {
   "cell_type": "code",
   "execution_count": null,
   "id": "e389a335",
   "metadata": {},
   "outputs": [],
   "source": []
  },
  {
   "cell_type": "code",
   "execution_count": null,
   "id": "553cae27",
   "metadata": {},
   "outputs": [],
   "source": [
    "\n"
   ]
  },
  {
   "cell_type": "code",
   "execution_count": null,
   "id": "1cd1d6df",
   "metadata": {},
   "outputs": [],
   "source": []
  },
  {
   "cell_type": "code",
   "execution_count": null,
   "id": "191ffd2b",
   "metadata": {},
   "outputs": [],
   "source": []
  },
  {
   "cell_type": "code",
   "execution_count": null,
   "id": "7fe80631",
   "metadata": {},
   "outputs": [],
   "source": []
  },
  {
   "cell_type": "code",
   "execution_count": null,
   "id": "e906b97d",
   "metadata": {},
   "outputs": [],
   "source": [
    "\n"
   ]
  },
  {
   "cell_type": "code",
   "execution_count": null,
   "id": "8604cb2a",
   "metadata": {},
   "outputs": [],
   "source": []
  },
  {
   "cell_type": "code",
   "execution_count": null,
   "id": "32da6ed1",
   "metadata": {},
   "outputs": [],
   "source": []
  },
  {
   "cell_type": "code",
   "execution_count": null,
   "id": "d13c63eb",
   "metadata": {},
   "outputs": [],
   "source": []
  },
  {
   "cell_type": "code",
   "execution_count": null,
   "id": "1bd8eca7",
   "metadata": {},
   "outputs": [],
   "source": []
  },
  {
   "cell_type": "code",
   "execution_count": null,
   "id": "fbc79e10",
   "metadata": {},
   "outputs": [],
   "source": []
  },
  {
   "cell_type": "code",
   "execution_count": null,
   "id": "a0c9131d",
   "metadata": {},
   "outputs": [],
   "source": []
  },
  {
   "cell_type": "code",
   "execution_count": null,
   "id": "193d9467",
   "metadata": {},
   "outputs": [],
   "source": [
    "\n"
   ]
  },
  {
   "cell_type": "code",
   "execution_count": null,
   "id": "f8c6cf2b",
   "metadata": {},
   "outputs": [],
   "source": []
  }
 ],
 "metadata": {
  "kernelspec": {
   "display_name": "Python 3 (ipykernel)",
   "language": "python",
   "name": "python3"
  },
  "language_info": {
   "codemirror_mode": {
    "name": "ipython",
    "version": 3
   },
   "file_extension": ".py",
   "mimetype": "text/x-python",
   "name": "python",
   "nbconvert_exporter": "python",
   "pygments_lexer": "ipython3",
   "version": "3.11.5"
  }
 },
 "nbformat": 4,
 "nbformat_minor": 5
}
