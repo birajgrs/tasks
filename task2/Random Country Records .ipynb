{
 "cells": [
  {
   "cell_type": "code",
   "execution_count": 54,
   "id": "02d2b73c",
   "metadata": {},
   "outputs": [],
   "source": [
    "import csv\n",
    "from faker import Faker\n",
    "import random\n",
    "import pandas as pd"
   ]
  },
  {
   "cell_type": "code",
   "execution_count": 55,
   "id": "7197204d",
   "metadata": {},
   "outputs": [],
   "source": [
    "%store -r courses"
   ]
  },
  {
   "cell_type": "code",
   "execution_count": 56,
   "id": "97a44045",
   "metadata": {},
   "outputs": [
    {
     "name": "stdout",
     "output_type": "stream",
     "text": [
      "['Java', 'Python', 'PHP', 'C#']\n"
     ]
    }
   ],
   "source": [
    "print(courses)"
   ]
  },
  {
   "cell_type": "code",
   "execution_count": 57,
   "id": "43bb36fd",
   "metadata": {},
   "outputs": [],
   "source": [
    "fake = Faker()"
   ]
  },
  {
   "cell_type": "code",
   "execution_count": 58,
   "id": "cceabac0",
   "metadata": {},
   "outputs": [],
   "source": [
    "records_per_file = 100000\n",
    "num_files = 3"
   ]
  },
  {
   "cell_type": "code",
   "execution_count": 59,
   "id": "d57225d0",
   "metadata": {},
   "outputs": [],
   "source": [
    "headers = ['Name', 'Contact', 'Country', 'Country_code']"
   ]
  },
  {
   "cell_type": "code",
   "execution_count": 60,
   "id": "3e13aae3",
   "metadata": {},
   "outputs": [],
   "source": [
    "for i in range(num_files):\n",
    "    filename = f'demo_{i+1}.csv'\n",
    "    \n",
    "    start_index = i * (records_per_file // num_files)\n",
    "    end_index = (i + 1) * (records_per_file // num_files)\n",
    "    \n",
    "    with open(filename, 'w', newline='') as file:\n",
    "        writer = csv.writer(file)\n",
    "        writer.writerow(headers)  \n",
    "        \n",
    "        for j in range(start_index, end_index):\n",
    "            name = fake.name()\n",
    "            contact = fake.phone_number()\n",
    "            country = fake.country()\n",
    "            country_code = fake.country_code()\n",
    "            writer.writerow([name, contact, country, country_code])"
   ]
  },
  {
   "cell_type": "code",
   "execution_count": 61,
   "id": "252c7f5c",
   "metadata": {},
   "outputs": [
    {
     "name": "stdout",
     "output_type": "stream",
     "text": [
      "   course\n",
      "0  Python\n",
      "1     PHP\n",
      "2      C#\n",
      "3    Java\n"
     ]
    }
   ],
   "source": [
    "course_df = pd.read_csv('course.csv')\n",
    "print(course_df)"
   ]
  },
  {
   "cell_type": "code",
   "execution_count": 62,
   "id": "e0a10961",
   "metadata": {},
   "outputs": [],
   "source": [
    "# Merge course.csv with demo files and generate random courses\n",
    "for i in range(num_files):\n",
    "\n",
    "    demo_df = pd.read_csv(f'demo_{i+1}.csv')\n",
    "    demo_df['Course'] = [random.choice(courses) for _ in range(len(demo_df))]\n",
    "    merged_df = pd.merge(course_df, demo_df, how='cross')\n",
    "    merged_df.to_csv(f'merged_{i+1}.csv', index=False)"
   ]
  },
  {
   "cell_type": "code",
   "execution_count": 63,
   "id": "2876b933",
   "metadata": {},
   "outputs": [
    {
     "name": "stdout",
     "output_type": "stream",
     "text": [
      "   course           Name              Contact  \\\n",
      "0  Python   Laura Rogers           2454953461   \n",
      "1  Python  Crystal Ramos         316-470-4202   \n",
      "2  Python    Allen Ellis  (363)568-0679x15040   \n",
      "3  Python      Amy Lopez        (206)888-3028   \n",
      "4  Python    Kathy Klein    905.275.3164x7897   \n",
      "\n",
      "                            Country Country_code  Course  \n",
      "0                        Mauritania           RS     PHP  \n",
      "1                           Morocco           KR  Python  \n",
      "2  Saint Vincent and the Grenadines           ET  Python  \n",
      "3                    American Samoa           UZ  Python  \n",
      "4                         Singapore           BW  Python  \n"
     ]
    }
   ],
   "source": [
    "# E.g: merged_1\n",
    "merged_df_1 = pd.read_csv('merged_1.csv')\n",
    "print(merged_df_1.head())"
   ]
  },
  {
   "cell_type": "code",
   "execution_count": null,
   "id": "302a86b1",
   "metadata": {},
   "outputs": [],
   "source": []
  },
  {
   "cell_type": "code",
   "execution_count": null,
   "id": "6ec6e685",
   "metadata": {},
   "outputs": [],
   "source": []
  }
 ],
 "metadata": {
  "kernelspec": {
   "display_name": "Python 3 (ipykernel)",
   "language": "python",
   "name": "python3"
  },
  "language_info": {
   "codemirror_mode": {
    "name": "ipython",
    "version": 3
   },
   "file_extension": ".py",
   "mimetype": "text/x-python",
   "name": "python",
   "nbconvert_exporter": "python",
   "pygments_lexer": "ipython3",
   "version": "3.11.5"
  }
 },
 "nbformat": 4,
 "nbformat_minor": 5
}
