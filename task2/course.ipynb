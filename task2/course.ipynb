{
 "cells": [
  {
   "cell_type": "code",
   "execution_count": 10,
   "id": "05ac6d11",
   "metadata": {},
   "outputs": [],
   "source": [
    "import csv \n",
    "import random"
   ]
  },
  {
   "cell_type": "code",
   "execution_count": 14,
   "id": "a5028833",
   "metadata": {},
   "outputs": [
    {
     "name": "stdout",
     "output_type": "stream",
     "text": [
      "Stored 'courses' (list)\n"
     ]
    }
   ],
   "source": [
    "courses = ['Java', 'Python', 'PHP', 'C#']\n",
    "%store courses\n",
    "random.shuffle(courses)"
   ]
  },
  {
   "cell_type": "code",
   "execution_count": 15,
   "id": "c080ce45",
   "metadata": {},
   "outputs": [],
   "source": [
    "with open('course.csv', 'w', newline='') as file:\n",
    "    writer = csv.writer(file)\n",
    "    writer.writerow(['course'])  \n",
    "    for course in courses:\n",
    "        writer.writerow([course]) "
   ]
  },
  {
   "cell_type": "code",
   "execution_count": null,
   "id": "c1a79424",
   "metadata": {},
   "outputs": [],
   "source": []
  },
  {
   "cell_type": "code",
   "execution_count": null,
   "id": "3cc9acab",
   "metadata": {},
   "outputs": [],
   "source": []
  }
 ],
 "metadata": {
  "kernelspec": {
   "display_name": "Python 3 (ipykernel)",
   "language": "python",
   "name": "python3"
  },
  "language_info": {
   "codemirror_mode": {
    "name": "ipython",
    "version": 3
   },
   "file_extension": ".py",
   "mimetype": "text/x-python",
   "name": "python",
   "nbconvert_exporter": "python",
   "pygments_lexer": "ipython3",
   "version": "3.11.5"
  }
 },
 "nbformat": 4,
 "nbformat_minor": 5
}
