{
 "cells": [
  {
   "cell_type": "code",
   "execution_count": 5,
   "id": "8d2d620a",
   "metadata": {},
   "outputs": [],
   "source": [
    "import urllib.request\n",
    "import csv\n",
    "import re"
   ]
  },
  {
   "cell_type": "code",
   "execution_count": 6,
   "id": "701077b5",
   "metadata": {},
   "outputs": [],
   "source": [
    "url = \"https://www.nrb.org.np/forex/\"\n",
    "response = urllib.request.urlopen(url)\n",
    "html_content = response.read().decode('utf-8')"
   ]
  },
  {
   "cell_type": "code",
   "execution_count": 7,
   "id": "4c5e9a02",
   "metadata": {},
   "outputs": [],
   "source": [
    "# Using regular expression \n",
    "section_regex = r'<div class=\"card-bt-section\">(.*?)</div>\\s*</div>\\s*</div>'\n",
    "title_regex = r'<div class=\"body-h3 card-bt-header-title main-title\" id=\"[^\"]*\">(.*?)</div>'\n",
    "table_regex = r'<table class=\"table table-hover table-borderless\">(.*?)</table>'\n",
    "row_regex = r'<tr>(.*?)</tr>'\n",
    "cell_regex = r'<t[hd][^>]*>(.*?)</t[hd]>'"
   ]
  },
  {
   "cell_type": "code",
   "execution_count": 8,
   "id": "420149dd",
   "metadata": {},
   "outputs": [],
   "source": [
    "data = []\n",
    "sections = re.finditer(section_regex, html_content, re.DOTALL)\n",
    "for section_match in sections:\n",
    "    section_content = section_match.group(1)\n",
    "    title_match = re.search(title_regex, section_content)\n",
    "    if title_match:\n",
    "        table_title = title_match.group(1).strip()\n",
    "        table_match = re.search(table_regex, section_content, re.DOTALL)\n",
    "        if table_match:\n",
    "            table_content = table_match.group(1)\n",
    "            rows = re.finditer(row_regex, table_content, re.DOTALL)\n",
    "            for row_match in rows:\n",
    "                cells = re.findall(cell_regex, row_match.group(1))\n",
    "                data.append([table_title] + [cell.strip() for cell in cells if cell.strip()])\n"
   ]
  },
  {
   "cell_type": "code",
   "execution_count": 9,
   "id": "1b217a9f",
   "metadata": {},
   "outputs": [],
   "source": [
    "with open(\"forex.csv\", \"w\", newline=\"\", encoding=\"utf-8\") as file:\n",
    "    writer = csv.writer(file)\n",
    "    writer.writerow([ \"Currency\", \"Unit\", \"Buy\", \"Sell\"])\n",
    "    writer.writerows(data)"
   ]
  },
  {
   "cell_type": "code",
   "execution_count": null,
   "id": "abde33c9",
   "metadata": {},
   "outputs": [],
   "source": []
  },
  {
   "cell_type": "code",
   "execution_count": null,
   "id": "037f9bc4",
   "metadata": {},
   "outputs": [],
   "source": []
  }
 ],
 "metadata": {
  "kernelspec": {
   "display_name": "Python 3 (ipykernel)",
   "language": "python",
   "name": "python3"
  },
  "language_info": {
   "codemirror_mode": {
    "name": "ipython",
    "version": 3
   },
   "file_extension": ".py",
   "mimetype": "text/x-python",
   "name": "python",
   "nbconvert_exporter": "python",
   "pygments_lexer": "ipython3",
   "version": "3.11.5"
  }
 },
 "nbformat": 4,
 "nbformat_minor": 5
}
