{
 "cells": [
  {
   "cell_type": "code",
   "execution_count": 1,
   "id": "197bb636",
   "metadata": {},
   "outputs": [],
   "source": [
    "import urllib.request\n",
    "import re\n",
    "import csv"
   ]
  },
  {
   "cell_type": "code",
   "execution_count": 3,
   "id": "9a826e0b",
   "metadata": {},
   "outputs": [],
   "source": [
    "url = \"https://bankbyaj.com/\"\n",
    "\n",
    "\n",
    "response = urllib.request.urlopen(url)\n",
    "html_content = response.read().decode('utf-8')"
   ]
  },
  {
   "cell_type": "code",
   "execution_count": 4,
   "id": "e0163a9f",
   "metadata": {},
   "outputs": [],
   "source": [
    "bank_name_pattern = re.compile(r'<th.*?><h3.*?>(.*?)<\\/h3>')\n",
    "interest_rate_pattern = re.compile(r'<h3.*?>(\\d+\\.\\d+)%<\\/h3>')"
   ]
  },
  {
   "cell_type": "code",
   "execution_count": 6,
   "id": "12fadb11",
   "metadata": {},
   "outputs": [
    {
     "name": "stdout",
     "output_type": "stream",
     "text": [
      "['Nepal Bank', 'RBB', 'Nabil Bank', 'NIMB', 'SCB', 'Himalayan', 'Nepal SBI', 'Everest Bank', 'NIC Asia', 'Machhapuchhre', 'Kumari Bank', 'Laxmi Sunrise', 'Siddhartha', 'Krishi Bikas', 'Global IME', 'Citizens Bank', 'Prime Bank', 'NMB Bank', 'Prabhu Bank', 'Sanima Bank', 'Narayani Dev.', 'Karnali Bikas', 'Excel Bikas', 'Miteri Bikas', 'Muktinath', 'Corporate Dev', 'Sindhu Bikas', 'Green Develop.', 'Shangrila Dev.', 'Shine Resunga', 'Jyoti Bikas', 'Garima Bikas', 'Mahalaxmi', 'Lumbini Bikas', 'Kamana Sewa', 'Saptakoshi Dev', 'Gurkhas Finan', 'Goodwill Finan.', 'Shree Invest', 'Nepal Finance', 'Best Finance', 'Progressive', 'Janaki Finan.', 'Pokhara Finan.', 'Central Fin', 'Multipurpose', 'Samriddhi Fin', 'Guheshwori', 'ICFC Finance', 'Manjushree', 'Reliance Fin.', 'Salapa Bikas']\n"
     ]
    }
   ],
   "source": [
    "bank_names = bank_name_pattern.findall(html_content)\n",
    "interest_rates = interest_rate_pattern.findall(html_content)\n",
    "\n",
    "# print(bank_names)"
   ]
  },
  {
   "cell_type": "code",
   "execution_count": 9,
   "id": "e897e2f3",
   "metadata": {},
   "outputs": [],
   "source": [
    "data = zip(bank_names, interest_rates)"
   ]
  },
  {
   "cell_type": "code",
   "execution_count": 10,
   "id": "2b9347fd",
   "metadata": {},
   "outputs": [
    {
     "name": "stdout",
     "output_type": "stream",
     "text": [
      "Data saved to interest_rates.csv\n"
     ]
    }
   ],
   "source": [
    "with open('interest_rates.csv', 'w', newline='') as csvfile:\n",
    "    writer = csv.writer(csvfile)\n",
    "    writer.writerow(['Bank/FI', 'Home Loan', 'Auto Loan'])\n",
    "    for row in data:\n",
    "        writer.writerow(row)\n",
    "\n",
    "print(\"Data saved to interest_rates.csv\")"
   ]
  },
  {
   "cell_type": "code",
   "execution_count": null,
   "id": "2727a240",
   "metadata": {},
   "outputs": [],
   "source": []
  }
 ],
 "metadata": {
  "kernelspec": {
   "display_name": "Python 3 (ipykernel)",
   "language": "python",
   "name": "python3"
  },
  "language_info": {
   "codemirror_mode": {
    "name": "ipython",
    "version": 3
   },
   "file_extension": ".py",
   "mimetype": "text/x-python",
   "name": "python",
   "nbconvert_exporter": "python",
   "pygments_lexer": "ipython3",
   "version": "3.11.5"
  }
 },
 "nbformat": 4,
 "nbformat_minor": 5
}
