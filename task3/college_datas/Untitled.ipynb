{
 "cells": [
  {
   "cell_type": "code",
   "execution_count": 18,
   "id": "23003afc",
   "metadata": {},
   "outputs": [
    {
     "name": "stdout",
     "output_type": "stream",
     "text": [
      "Requirement already satisfied: requests in c:\\users\\biraj\\anaconda3\\envs\\venv\\lib\\site-packages (2.31.0)\n",
      "Requirement already satisfied: charset-normalizer<4,>=2 in c:\\users\\biraj\\anaconda3\\envs\\venv\\lib\\site-packages (from requests) (2.0.4)\n",
      "Requirement already satisfied: idna<4,>=2.5 in c:\\users\\biraj\\anaconda3\\envs\\venv\\lib\\site-packages (from requests) (3.4)\n",
      "Requirement already satisfied: urllib3<3,>=1.21.1 in c:\\users\\biraj\\anaconda3\\envs\\venv\\lib\\site-packages (from requests) (1.26.18)\n",
      "Requirement already satisfied: certifi>=2017.4.17 in c:\\users\\biraj\\anaconda3\\envs\\venv\\lib\\site-packages (from requests) (2023.11.17)\n"
     ]
    }
   ],
   "source": [
    "!pip install requests\n"
   ]
  },
  {
   "cell_type": "code",
   "execution_count": 19,
   "id": "2fb4a06c",
   "metadata": {},
   "outputs": [],
   "source": [
    "import requests\n",
    "import urllib.request\n",
    "import re\n",
    "import csv"
   ]
  },
  {
   "cell_type": "code",
   "execution_count": 20,
   "id": "b2093029",
   "metadata": {},
   "outputs": [],
   "source": [
    "def fetch_data(url):\n",
    "    try:\n",
    "        headers = {'User-Agent': 'Mozilla/5.0 (Windows NT 10.0; Win64; x64) AppleWebKit/537.36 (KHTML, like Gecko) Chrome/91.0.4472.124 Safari/537.36'}\n",
    "        response = requests.get(url, headers=headers)\n",
    "        html_content = response.text\n",
    "    except requests.exceptions.RequestException as e:\n",
    "        print(\"Requests error:\", e)\n",
    "        print(\"Trying with urllib...\")\n",
    "        req = urllib.request.Request(url, headers=headers)\n",
    "        with urllib.request.urlopen(req) as response:\n",
    "            html_content = response.read().decode('utf-8')\n",
    "    return html_content"
   ]
  },
  {
   "cell_type": "code",
   "execution_count": 21,
   "id": "393b4d27",
   "metadata": {},
   "outputs": [],
   "source": [
    "def extract_universities(html_content):\n",
    "    pattern = r'<div id=\"ctp_tuple_\\d+\">.*?<a .*?href=\"(.*?)\"><div class=\"eb61\" title=\"(.*?)\">.*?<span class=\"_5588\">(.*?)</span>.*?<div class=\"dcfd undefined\">₹(.*?)<\\/div>.*?<li class=\"\"><a .*?href=\"(.*?)\">.*?<\\/a><\\/li>.*?<div class=\"dcfd undefined\">(.*?)<\\/div>'\n",
    "    universities = re.findall(pattern, html_content, re.DOTALL)\n",
    "    return universities"
   ]
  },
  {
   "cell_type": "code",
   "execution_count": 23,
   "id": "1c0dc24f",
   "metadata": {},
   "outputs": [],
   "source": [
    "def write_to_csv(data, filename):\n",
    "    with open(filename, 'w', newline='', encoding='utf-8') as csvfile:\n",
    "        writer = csv.writer(csvfile)\n",
    "        writer.writerow(['University Name', 'Location', 'Tuition Fees'])\n",
    "        for entry in data:\n",
    "            writer.writerow([entry[1], entry[2], entry[3]])"
   ]
  },
  {
   "cell_type": "code",
   "execution_count": 24,
   "id": "989d0133",
   "metadata": {},
   "outputs": [],
   "source": [
    "url = 'https://www.shiksha.com/studyabroad/nepal/universities'\n",
    "html_content = fetch_data(url)"
   ]
  },
  {
   "cell_type": "code",
   "execution_count": 25,
   "id": "476e415a",
   "metadata": {},
   "outputs": [],
   "source": [
    "\n",
    "universities = extract_universities(html_content)\n",
    "\n",
    "write_to_csv(universities, 'universities_data.csv')"
   ]
  },
  {
   "cell_type": "code",
   "execution_count": 17,
   "id": "5298777b",
   "metadata": {},
   "outputs": [
    {
     "data": {
      "text/plain": [
       "1"
      ]
     },
     "execution_count": 17,
     "metadata": {},
     "output_type": "execute_result"
    }
   ],
   "source": [
    "1"
   ]
  },
  {
   "cell_type": "code",
   "execution_count": null,
   "id": "501841ef",
   "metadata": {},
   "outputs": [],
   "source": []
  }
 ],
 "metadata": {
  "kernelspec": {
   "display_name": "Python 3 (ipykernel)",
   "language": "python",
   "name": "python3"
  },
  "language_info": {
   "codemirror_mode": {
    "name": "ipython",
    "version": 3
   },
   "file_extension": ".py",
   "mimetype": "text/x-python",
   "name": "python",
   "nbconvert_exporter": "python",
   "pygments_lexer": "ipython3",
   "version": "3.11.5"
  }
 },
 "nbformat": 4,
 "nbformat_minor": 5
}
