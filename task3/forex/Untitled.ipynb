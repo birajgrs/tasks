{
 "cells": [
  {
   "cell_type": "code",
   "execution_count": 16,
   "id": "6739157d",
   "metadata": {},
   "outputs": [],
   "source": [
    "import urllib.request\n",
    "import re\n",
    "import csv"
   ]
  },
  {
   "cell_type": "code",
   "execution_count": 17,
   "id": "25f73289",
   "metadata": {},
   "outputs": [],
   "source": [
    "url = \"https://www.x-rates.com/table/?from=USD&amount=1#google_vignette\"\n",
    "response = urllib.request.urlopen(url)\n",
    "html_content = response.read().decode('utf-8')"
   ]
  },
  {
   "cell_type": "code",
   "execution_count": 18,
   "id": "e7b990c1",
   "metadata": {},
   "outputs": [],
   "source": [
    "currency_pattern = r'<td>(.*?)<\\/td>'\n",
    "rate_pattern = r'<a href=\".*?\">(.*?)<\\/a>'"
   ]
  },
  {
   "cell_type": "code",
   "execution_count": 19,
   "id": "f528d7dc",
   "metadata": {},
   "outputs": [],
   "source": [
    "currency_names = re.findall(currency_pattern, html_content)\n",
    "usd_to_currency_rates = re.findall(rate_pattern, html_content)"
   ]
  },
  {
   "cell_type": "code",
   "execution_count": 20,
   "id": "8c848102",
   "metadata": {},
   "outputs": [],
   "source": [
    "split_result = html_content.split('<table class=\"tablesorter ratesTable\" cellpadding=\"0\" cellspacing=\"0\">')"
   ]
  },
  {
   "cell_type": "code",
   "execution_count": 24,
   "id": "b2e19865",
   "metadata": {},
   "outputs": [
    {
     "name": "stdout",
     "output_type": "stream",
     "text": [
      "[]\n"
     ]
    }
   ],
   "source": [
    "if len(split_result) > 1:\n",
    "    currency_to_usd_rates = re.findall(rate_pattern, split_result[1])\n",
    "else:\n",
    "    currency_to_usd_rates = []\n",
    "\n",
    "def format_data(names, usd_rates, currency_rates):\n",
    "    data = []\n",
    "    min_length = min(len(names), len(usd_rates), len(currency_rates))\n",
    "    for i in range(min_length):\n",
    "        data.append((names[i], usd_rates[i], currency_rates[i]))\n",
    "    return data\n",
    "\n",
    "# This prints out the formatted data to ensure it's correct\n",
    "print(format_data(currency_names, usd_to_currency_rates, currency_to_usd_rates))\n"
   ]
  },
  {
   "cell_type": "code",
   "execution_count": 25,
   "id": "ca44f061",
   "metadata": {},
   "outputs": [
    {
     "name": "stdout",
     "output_type": "stream",
     "text": [
      "Data has been successfully saved to exchange_rates.csv\n"
     ]
    }
   ],
   "source": [
    "with open('exchange_rates.csv', 'w', newline='') as csvfile:\n",
    "    writer = csv.writer(csvfile)\n",
    "    writer.writerow(['Currency', 'USD to Currency', 'Currency to USD'])\n",
    "    writer.writerows(format_data(currency_names, usd_to_currency_rates, currency_to_usd_rates))\n",
    "\n",
    "print(\"Data has been successfully saved to exchange_rates.csv\")"
   ]
  },
  {
   "cell_type": "code",
   "execution_count": 23,
   "id": "d4ea4b11",
   "metadata": {},
   "outputs": [
    {
     "name": "stdout",
     "output_type": "stream",
     "text": [
      "Data has been successfully saved to exchange_rates.csv\n"
     ]
    }
   ],
   "source": []
  },
  {
   "cell_type": "code",
   "execution_count": null,
   "id": "32430698",
   "metadata": {},
   "outputs": [],
   "source": []
  }
 ],
 "metadata": {
  "kernelspec": {
   "display_name": "Python 3 (ipykernel)",
   "language": "python",
   "name": "python3"
  },
  "language_info": {
   "codemirror_mode": {
    "name": "ipython",
    "version": 3
   },
   "file_extension": ".py",
   "mimetype": "text/x-python",
   "name": "python",
   "nbconvert_exporter": "python",
   "pygments_lexer": "ipython3",
   "version": "3.11.5"
  }
 },
 "nbformat": 4,
 "nbformat_minor": 5
}
