{
 "cells": [
  {
   "cell_type": "code",
   "execution_count": 28,
   "id": "97595890",
   "metadata": {},
   "outputs": [],
   "source": [
    "import urllib.request\n",
    "import re\n",
    "import csv"
   ]
  },
  {
   "cell_type": "code",
   "execution_count": 29,
   "id": "20b05d16",
   "metadata": {},
   "outputs": [],
   "source": [
    "\n",
    "url = \"https://www.fngsgja.org.np/\""
   ]
  },
  {
   "cell_type": "code",
   "execution_count": 30,
   "id": "d520ceb7",
   "metadata": {},
   "outputs": [],
   "source": [
    "headers = {'User-Agent': 'Mozilla/5.0 (Windows NT 10.0; Win64; x64) AppleWebKit/537.36 (KHTML, like Gecko) Chrome/58.0.3029.110 Safari/537.3'}\n",
    "\n",
    "req = urllib.request.Request(url, headers=headers)"
   ]
  },
  {
   "cell_type": "code",
   "execution_count": 31,
   "id": "a4a385fc",
   "metadata": {},
   "outputs": [
    {
     "name": "stdout",
     "output_type": "stream",
     "text": [
      "Data has been successfully written to gold_and_silver_prices.csv file.\n"
     ]
    }
   ],
   "source": [
    "\n",
    "try:\n",
    "    response = urllib.request.urlopen(req)\n",
    "    html_content = response.read().decode('utf-8')\n",
    "\n",
    "    pattern = r'<strong>(NRs\\.[\\d,/-]+)</strong>'\n",
    "    matches = re.findall(pattern, html_content)\n",
    "\n",
    "    data = [\n",
    "        ('FINE GOLD Per 1 tola', matches[0]),\n",
    "        ('FINE GOLD Per 10 gms', matches[1]),\n",
    "        ('STANDARD GOLD Per 1 tola', matches[2]),\n",
    "        ('STANDARD GOLD Per 10 gms', matches[3]),\n",
    "        ('SILVER Per 1 tola', matches[4]),\n",
    "        ('SILVER Per 10 gms', matches[5])\n",
    "    ]\n",
    "\n",
    "    with open('gold_and_silver_prices.csv', 'w', newline='') as csvfile:\n",
    "        writer = csv.writer(csvfile)\n",
    "        writer.writerow(['Product', 'Price'])\n",
    "        writer.writerows(data)\n",
    "\n",
    "    print(\"Data has been successfully written to gold_and_silver_prices.csv file.\")\n",
    "\n",
    "except urllib.error.HTTPError as e:\n",
    "    print(f\"HTTP Error {e.code}: {e.reason}\")\n",
    "\n",
    "except urllib.error.URLError as e:\n",
    "    print(f\"URL Error: {e.reason}\")"
   ]
  },
  {
   "cell_type": "code",
   "execution_count": null,
   "id": "ad55b123",
   "metadata": {},
   "outputs": [],
   "source": []
  },
  {
   "cell_type": "code",
   "execution_count": null,
   "id": "caa91a77",
   "metadata": {},
   "outputs": [],
   "source": []
  },
  {
   "cell_type": "code",
   "execution_count": null,
   "id": "3a5f330d",
   "metadata": {},
   "outputs": [],
   "source": []
  }
 ],
 "metadata": {
  "kernelspec": {
   "display_name": "Python 3 (ipykernel)",
   "language": "python",
   "name": "python3"
  },
  "language_info": {
   "codemirror_mode": {
    "name": "ipython",
    "version": 3
   },
   "file_extension": ".py",
   "mimetype": "text/x-python",
   "name": "python",
   "nbconvert_exporter": "python",
   "pygments_lexer": "ipython3",
   "version": "3.11.5"
  }
 },
 "nbformat": 4,
 "nbformat_minor": 5
}
