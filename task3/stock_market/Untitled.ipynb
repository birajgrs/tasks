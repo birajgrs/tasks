{
 "cells": [
  {
   "cell_type": "code",
   "execution_count": 1,
   "id": "0dd3e2f9",
   "metadata": {},
   "outputs": [],
   "source": [
    "import urllib.request\n",
    "import re\n",
    "import csv\n"
   ]
  },
  {
   "cell_type": "code",
   "execution_count": 2,
   "id": "555f858c",
   "metadata": {},
   "outputs": [],
   "source": [
    "url = \"https://merolagani.com/LatestMarket.aspx\"\n",
    "html_content = urllib.request.urlopen(url).read().decode(\"utf-8\")"
   ]
  },
  {
   "cell_type": "code",
   "execution_count": 3,
   "id": "f0c8a2df",
   "metadata": {},
   "outputs": [],
   "source": [
    "pattern = r'<tr.*?><td.*?><a.*?symbol=(.*?)\".*?title=\"(.*?)\".*?>(.*?)</a></td><td>(.*?)</td><td>(.*?)</td><td.*?>(.*?)</td><td.*?>(.*?)</td><td.*?>(.*?)</td><td.*?>(.*?)</td><td.*?>(.*?)</td>'\n",
    "regex = re.compile(pattern, re.DOTALL)"
   ]
  },
  {
   "cell_type": "code",
   "execution_count": null,
   "id": "6c8ee8b9",
   "metadata": {},
   "outputs": [],
   "source": [
    "matches = regex.findall(html_content)"
   ]
  },
  {
   "cell_type": "code",
   "execution_count": null,
   "id": "40b20108",
   "metadata": {},
   "outputs": [],
   "source": [
    "with open(\"stock_data.csv\", \"w\", newline=\"\") as csvfile:\n",
    "    writer = csv.writer(csvfile)\n",
    "    # Write header\n",
    "    writer.writerow([\"Symbol\", \"Company\", \"LTP\", \"% Change\", \"Open\", \"High\", \"Low\", \"Qty\", \"PClose\", \"Diff\"])\n",
    "    # Write data rows\n",
    "    for match in matches:\n",
    "        writer.writerow(match)\n",
    "\n",
    "print(\"Data written successfully.\")"
   ]
  },
  {
   "cell_type": "code",
   "execution_count": null,
   "id": "96fe1755",
   "metadata": {},
   "outputs": [],
   "source": []
  },
  {
   "cell_type": "code",
   "execution_count": null,
   "id": "acf0e236",
   "metadata": {},
   "outputs": [],
   "source": []
  }
 ],
 "metadata": {
  "kernelspec": {
   "display_name": "Python 3 (ipykernel)",
   "language": "python",
   "name": "python3"
  },
  "language_info": {
   "codemirror_mode": {
    "name": "ipython",
    "version": 3
   },
   "file_extension": ".py",
   "mimetype": "text/x-python",
   "name": "python",
   "nbconvert_exporter": "python",
   "pygments_lexer": "ipython3",
   "version": "3.11.5"
  }
 },
 "nbformat": 4,
 "nbformat_minor": 5
}
