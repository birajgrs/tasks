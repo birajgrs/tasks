{
 "cells": [
  {
   "cell_type": "code",
   "execution_count": 1,
   "id": "384538d6",
   "metadata": {},
   "outputs": [],
   "source": [
    "import nltk\n",
    "from textblob import TextBlob\n",
    "import random \n",
    "import time"
   ]
  },
  {
   "cell_type": "code",
   "execution_count": 2,
   "id": "fc56bc16",
   "metadata": {},
   "outputs": [
    {
     "name": "stderr",
     "output_type": "stream",
     "text": [
      "[nltk_data] Downloading package punkt to\n",
      "[nltk_data]     C:\\Users\\biraj\\AppData\\Roaming\\nltk_data...\n",
      "[nltk_data]   Package punkt is already up-to-date!\n"
     ]
    },
    {
     "data": {
      "text/plain": [
       "True"
      ]
     },
     "execution_count": 2,
     "metadata": {},
     "output_type": "execute_result"
    }
   ],
   "source": [
    "nltk.download('punkt')   #download necessary datas for NLTK"
   ]
  },
  {
   "cell_type": "code",
   "execution_count": 3,
   "id": "adaf23e0",
   "metadata": {},
   "outputs": [],
   "source": [
    "messages=[\"Hello !\",\n",
    "         \"Hey there !\",\n",
    "         \"Hi, how can i help you?\",\n",
    "         \"What's up?\",\n",
    "         \"Hello!, What brings you here? \"\n",
    "         ]"
   ]
  },
  {
   "cell_type": "code",
   "execution_count": 4,
   "id": "1edb6257",
   "metadata": {},
   "outputs": [],
   "source": [
    "def random_message():\n",
    "    return random.choice(messages)"
   ]
  },
  {
   "cell_type": "code",
   "execution_count": 5,
   "id": "44fb3c04",
   "metadata": {},
   "outputs": [],
   "source": [
    "# sentiment analysis \n",
    "\n",
    "def sentiment_analysis(responses):\n",
    "    blob=TextBlob(responses)\n",
    "    sentiment= blob.sentiment.polarity\n",
    "    \n",
    "    if sentiment > 0.5:\n",
    "        return \"positive...\"\n",
    "    elif sentiment <-0.5:\n",
    "        return \"negative...\"\n",
    "    else:\n",
    "        return \"neural...\""
   ]
  },
  {
   "cell_type": "code",
   "execution_count": null,
   "id": "9abb2b42",
   "metadata": {},
   "outputs": [
    {
     "name": "stdout",
     "output_type": "stream",
     "text": [
      "Bot: hello\n",
      "You: hello \n",
      "Bot:  What's up?\n",
      "You: hello\n",
      "Bot:  Hey there !\n",
      "You: hello \n",
      "Bot:  Hello!, What brings you here? \n",
      "You: hello \n",
      "Bot:  Hey there !\n",
      "You: hello\n",
      "Bot:  Hey there !\n",
      "You: hello \n",
      "Bot:  Hello!, What brings you here? \n",
      "Bot: Let's reset our conversation.\n",
      "You: hello \n",
      "Bot:  Hello !\n",
      "You: hello \n",
      "Bot:  Hi, how can i help you?\n",
      "You: hellio \n",
      "Bot:  Hi, how can i help you?\n",
      "You: hello \n",
      "Bot:  Hello!, What brings you here? \n",
      "You: hello \n",
      "Bot:  Hello!, What brings you here? \n",
      "You: hello \n",
      "Bot:  Hi, how can i help you?\n",
      "You: hello \n",
      "Bot:  Hello !\n",
      "You: hello \n",
      "Bot:  Hi, how can i help you?\n",
      "You: hello \n",
      "Bot:  Hi, how can i help you?\n"
     ]
    }
   ],
   "source": [
    "def main():\n",
    "    print(\"Bot: hello\")\n",
    "    while True:\n",
    "        input_message = input(\"You: \").strip().lower()\n",
    "        if input_message == \"exit\":\n",
    "            print(\"Bot: Goodbye!!!\")\n",
    "            break\n",
    "        response = random_message()\n",
    "        print(\"Bot: \", response)\n",
    "        sentiment = sentiment_analysis(input_message)\n",
    "        time.sleep(1)\n",
    "        if sentiment == \"negative...\":\n",
    "            print(\"Bot: I'm getting irritated with your message!\")\n",
    "        if random.random() < 0.1:\n",
    "            print(\"Bot: Let's reset our conversation.\")\n",
    "            time.sleep(1)\n",
    "\n",
    "if __name__ == \"__main__\":\n",
    "    main()"
   ]
  },
  {
   "cell_type": "code",
   "execution_count": null,
   "id": "0536a9ea",
   "metadata": {},
   "outputs": [],
   "source": []
  }
 ],
 "metadata": {
  "kernelspec": {
   "display_name": "Python 3 (ipykernel)",
   "language": "python",
   "name": "python3"
  },
  "language_info": {
   "codemirror_mode": {
    "name": "ipython",
    "version": 3
   },
   "file_extension": ".py",
   "mimetype": "text/x-python",
   "name": "python",
   "nbconvert_exporter": "python",
   "pygments_lexer": "ipython3",
   "version": "3.11.5"
  }
 },
 "nbformat": 4,
 "nbformat_minor": 5
}
