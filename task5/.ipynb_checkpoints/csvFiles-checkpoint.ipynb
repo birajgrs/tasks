{
 "cells": [
  {
   "cell_type": "code",
   "execution_count": 1,
   "id": "04cf00e7",
   "metadata": {},
   "outputs": [],
   "source": [
    "import csv"
   ]
  },
  {
   "cell_type": "code",
   "execution_count": null,
   "id": "66da5b39",
   "metadata": {},
   "outputs": [],
   "source": [
    "relatives_data = [\n",
    "    {\"name\": \"Jaya\", \"age\": 25, \"relation\": \"uncle\"},\n",
    "    {\"name\": \"Santi\", \"age\": 30, \"relation\": \"aunt\"},\n",
    "    {\"name\": \"sudhir\", \"age\": 15, \"relation\": \"cousin\"},\n",
    "    {\"name\": \"Archana\", \"age\": 28, \"relation\": \"sister\"},\n",
    "    {\"name\": \"Ramhari\", \"age\": 69, \"relation\": \"grandfather\"},\n",
    "    {\"name\": \"Radhika\", \"age\": 64, \"relation\": \"grandmother\"},\n",
    "    {\"name\": \"Bivek\", \"age\": 25, \"relation\": \"nephew\"}\n",
    "]"
   ]
  }
 ],
 "metadata": {
  "kernelspec": {
   "display_name": "Python 3 (ipykernel)",
   "language": "python",
   "name": "python3"
  },
  "language_info": {
   "codemirror_mode": {
    "name": "ipython",
    "version": 3
   },
   "file_extension": ".py",
   "mimetype": "text/x-python",
   "name": "python",
   "nbconvert_exporter": "python",
   "pygments_lexer": "ipython3",
   "version": "3.11.5"
  }
 },
 "nbformat": 4,
 "nbformat_minor": 5
}
