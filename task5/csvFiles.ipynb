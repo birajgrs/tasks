{
 "cells": [
  {
   "cell_type": "code",
   "execution_count": 1,
   "id": "479e18e0",
   "metadata": {},
   "outputs": [],
   "source": [
    "import csv"
   ]
  },
  {
   "cell_type": "code",
   "execution_count": 2,
   "id": "baa01264",
   "metadata": {},
   "outputs": [],
   "source": [
    "relatives_data = [\n",
    "    {\"name\": \"Jaya\", \"age\": 25, \"relation\": \"uncle\"},\n",
    "    {\"name\": \"Santi\", \"age\": 30, \"relation\": \"aunt\"},\n",
    "    {\"name\": \"sudhir\", \"age\": 15, \"relation\": \"cousin\"},\n",
    "    {\"name\": \"Archana\", \"age\": 28, \"relation\": \"sister\"},\n",
    "    {\"name\": \"Ramhari\", \"age\": 69, \"relation\": \"grandfather\"},\n",
    "    {\"name\": \"Radhika\", \"age\": 64, \"relation\": \"grandmother\"},\n",
    "    {\"name\": \"Bivek\", \"age\": 25, \"relation\": \"nephew\"}\n",
    "]"
   ]
  },
  {
   "cell_type": "code",
   "execution_count": 3,
   "id": "cf099eef",
   "metadata": {},
   "outputs": [],
   "source": [
    "def write_relatives_to_csv(file_path, relatives_data):\n",
    "    with open(file_path, 'w', newline='') as csvfile:\n",
    "        fieldnames = ['name', 'age', 'relation']\n",
    "        writer = csv.DictWriter(csvfile, fieldnames=fieldnames)\n",
    "\n",
    "        writer.writeheader()\n",
    "        for relative in relatives_data:\n",
    "            writer.writerow(relative)"
   ]
  },
  {
   "cell_type": "code",
   "execution_count": 4,
   "id": "9fe63646",
   "metadata": {},
   "outputs": [],
   "source": [
    "file_path = \"relatives.csv\""
   ]
  },
  {
   "cell_type": "code",
   "execution_count": 5,
   "id": "4d53fef3",
   "metadata": {},
   "outputs": [
    {
     "name": "stdout",
     "output_type": "stream",
     "text": [
      "CSV file 'relatives.csv' created successfully.\n"
     ]
    }
   ],
   "source": [
    "write_relatives_to_csv(file_path, relatives_data)\n",
    "\n",
    "print(\"CSV file 'relatives.csv' created successfully.\")"
   ]
  },
  {
   "cell_type": "code",
   "execution_count": null,
   "id": "ba6bd11e",
   "metadata": {},
   "outputs": [],
   "source": []
  }
 ],
 "metadata": {
  "kernelspec": {
   "display_name": "Python 3 (ipykernel)",
   "language": "python",
   "name": "python3"
  },
  "language_info": {
   "codemirror_mode": {
    "name": "ipython",
    "version": 3
   },
   "file_extension": ".py",
   "mimetype": "text/x-python",
   "name": "python",
   "nbconvert_exporter": "python",
   "pygments_lexer": "ipython3",
   "version": "3.11.5"
  }
 },
 "nbformat": 4,
 "nbformat_minor": 5
}
