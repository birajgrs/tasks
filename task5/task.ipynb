{
 "cells": [
  {
   "cell_type": "code",
   "execution_count": 9,
   "id": "1f2d1bad",
   "metadata": {},
   "outputs": [],
   "source": [
    "import pandas as pd\n",
    "from sklearn.tree import DecisionTreeClassifier\n",
    "from sklearn.model_selection import train_test_split\n",
    "from sklearn.metrics import accuracy_score"
   ]
  },
  {
   "cell_type": "code",
   "execution_count": 10,
   "id": "55515efd",
   "metadata": {},
   "outputs": [],
   "source": [
    "def read_relatives(file_path):\n",
    "    return pd.read_csv(file_path)"
   ]
  },
  {
   "cell_type": "code",
   "execution_count": 11,
   "id": "8d505517",
   "metadata": {},
   "outputs": [],
   "source": [
    "def train_classifier(data):\n",
    "    X = data[['age']]  \n",
    "    y = data['greeting']  \n",
    "    classifier = DecisionTreeClassifier()\n",
    "    classifier.fit(X, y)\n",
    "    return classifier"
   ]
  },
  {
   "cell_type": "code",
   "execution_count": 12,
   "id": "f08eb66f",
   "metadata": {},
   "outputs": [],
   "source": [
    "def predict_greetings(classifier, data):\n",
    "    X = data[['age']]  # Features: Age\n",
    "    predictions = classifier.predict(X)\n",
    "    return predictions"
   ]
  },
  {
   "cell_type": "code",
   "execution_count": 13,
   "id": "797ec487",
   "metadata": {},
   "outputs": [],
   "source": [
    "def greet_relatives(relatives, predictions):\n",
    "    for index, row in relatives.iterrows():\n",
    "        if predictions[index] == 'Hello':\n",
    "            print(f\"Hello, {row['name']}!\")\n",
    "        else:\n",
    "            print(f\"Namaste, {row['relation']} {row['name']}.\")"
   ]
  },
  {
   "cell_type": "code",
   "execution_count": 14,
   "id": "c3635328",
   "metadata": {},
   "outputs": [],
   "source": [
    "df= \"relatives.csv\"\n",
    "relatives_data = read_relatives_from_csv(df)"
   ]
  },
  {
   "cell_type": "code",
   "execution_count": 19,
   "id": "456351bf",
   "metadata": {},
   "outputs": [],
   "source": [
    "relatives_data['greeting'] = ['Hello' if age <= 23 else 'Namaste' for age in relatives_data['age']]"
   ]
  },
  {
   "cell_type": "code",
   "execution_count": 20,
   "id": "803a8a5f",
   "metadata": {},
   "outputs": [],
   "source": [
    "classifier = train_classifier(relatives_data)"
   ]
  },
  {
   "cell_type": "code",
   "execution_count": 21,
   "id": "5e26e09a",
   "metadata": {},
   "outputs": [],
   "source": [
    "predictions = predict_greetings(classifier, relatives_data)"
   ]
  },
  {
   "cell_type": "code",
   "execution_count": 22,
   "id": "c4b4a4e0",
   "metadata": {},
   "outputs": [
    {
     "name": "stdout",
     "output_type": "stream",
     "text": [
      "Namaste, uncle Jaya.\n",
      "Namaste, aunt Santi.\n",
      "Hello, sudhir!\n",
      "Namaste, sister Archana.\n",
      "Namaste, grandfather Ramhari.\n",
      "Namaste, grandmother Radhika.\n",
      "Namaste, nephew Bivek.\n"
     ]
    }
   ],
   "source": [
    "greet_relatives(relatives_data, predictions)"
   ]
  },
  {
   "cell_type": "code",
   "execution_count": null,
   "id": "5d83444a",
   "metadata": {},
   "outputs": [],
   "source": []
  }
 ],
 "metadata": {
  "kernelspec": {
   "display_name": "Python 3 (ipykernel)",
   "language": "python",
   "name": "python3"
  },
  "language_info": {
   "codemirror_mode": {
    "name": "ipython",
    "version": 3
   },
   "file_extension": ".py",
   "mimetype": "text/x-python",
   "name": "python",
   "nbconvert_exporter": "python",
   "pygments_lexer": "ipython3",
   "version": "3.11.5"
  }
 },
 "nbformat": 4,
 "nbformat_minor": 5
}
