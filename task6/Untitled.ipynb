{
 "cells": [
  {
   "cell_type": "markdown",
   "id": "59479420",
   "metadata": {},
   "source": [
    "# Generate Datas of Tech companies"
   ]
  },
  {
   "cell_type": "code",
   "execution_count": 10,
   "id": "eab21fab",
   "metadata": {},
   "outputs": [],
   "source": [
    "import pandas as pd\n",
    "from faker import Faker\n",
    "import random\n",
    "from faker.providers import BaseProvider"
   ]
  },
  {
   "cell_type": "code",
   "execution_count": 11,
   "id": "790473f8",
   "metadata": {},
   "outputs": [],
   "source": [
    "class NepaliTechCompanyProvider(BaseProvider):\n",
    "    def tech_company(self):\n",
    "        tech_companies = [\n",
    "            'Leapfrog Technology', 'CloudFactory', 'Fusemachines', \n",
    "            'LogPoint', 'ESignature', 'Deerwalk', 'Verscend', \n",
    "            'Braindigit', 'Javra Software', 'Verisk Nepal',\n",
    "            'Insight Workshop', 'Cotiviti Nepal', 'CloudTech', 'Bits Innovation', \n",
    "            'EB Pearls', 'Sustainable Solutions', 'Janaki Technology', 'Open Eyes IT Solution', \n",
    "            'Stupa IT', 'Swift Technology', 'Information Technology Nepal', \n",
    "            'ITONICS', 'Tech One Global', 'Pycoders', 'Vertex Solutions', \n",
    "            'Elder IT Solutions', 'Proshore', 'IT Gurus', 'Upaya City Cargo', \n",
    "            'Tech Sansar', 'Merojob', 'Tiger Palace Resort', 'Jobaxle', \n",
    "            'Ansu Solutions', 'Sprout Technology', 'Webpage Nepal', 'Innovate Tech',\n",
    "            'GrowByData', 'ESR Tech', 'BrainStation 23', 'Deerwalk Institute', \n",
    "            'F1Soft International', 'SunBi Design Studio', 'Verscend Technologies', \n",
    "            'Yomari', 'Neema Academy', 'Techsanjal', 'NAXA', 'Nepxpress', \n",
    "            'Green IT Solutions', 'VertexWeb', 'AXIOM Nepal', 'SastoDeal', \n",
    "            'NepaliPatro', 'SmartMobe Solutions', 'Pumori Software Solutions', \n",
    "            'Aayulogic', 'Digital Nepal', 'HoneyGuide Apps', 'Real Time Solutions', \n",
    "            'Cotiviti', 'IntroCept', 'Genese Solution', 'Braindigit IT Solution', \n",
    "            'Codewing Solutions', 'Himalaya Organization', 'Nepal GIS', \n",
    "            'Echo Innovators', 'Digital Home International', 'SoftNEP', \n",
    "            'Eminence Ways', 'Hearts & Tears', 'LogPoint', 'One Click Innovation', \n",
    "            'Arhant Solutions', 'Krishi Tech', 'Braindigit', 'Iron Gate Technology', \n",
    "            'Mavorion Systems', 'Unelma Platforms', 'DigiHub', 'Nepware', \n",
    "            'Digi Technolab', 'Tech Central', 'Stupa Tech', 'Innovative Solutions', \n",
    "            'Vertex Craft', 'Kantipur Digital Corp', 'Softmandu', \n",
    "            'Optimum Futurist', 'Sagoon', 'Subisu', 'Vianet', 'WorldLink', \n",
    "            'Nepal Telecom', 'Ncell', 'Mercantile Communications', \n",
    "            'Namaste Pay', 'F1Soft', 'eSewa', 'Khalti', 'Hamro Patro', \n",
    "            'Foodmandu', 'Pathao', 'Tootle', 'Urban Girl', 'NepBay', \n",
    "            'Nepal Health News', 'Sajha Yatayat', 'Yellow Nepal', \n",
    "            'Tech In Asia Nepal', 'Hamro Doctor', 'Nepal Drives', \n",
    "            'Nepal B2B', 'Nepal Media', 'Nepal IT', 'Nepal Computer', \n",
    "            'Nepal Software', 'Nepal App Developers', 'Nepal Internet Exchange', \n",
    "            'Nepal Web Solutions', 'Nepal Online Services', 'Nepal Wireless', \n",
    "            'Nepal Telecom Services', 'Nepal Digital Communications', \n",
    "            'Nepal Network Solutions', 'Nepal Cyber Security', \n",
    "            'Nepal E-commerce Solutions', 'Nepal Payment Solutions', \n",
    "            'Nepal Health Tech', 'Nepal Agri Tech', 'Nepal Edu Tech', \n",
    "            'Nepal Travel Tech', 'Nepal Fin Tech', 'Nepal Mobility Tech', \n",
    "            'Nepal Logistics Tech', 'Nepal Media Tech', 'Nepal Legal Tech', \n",
    "            'Nepal Retail Tech', 'Nepal Smart Tech', 'Nepal Green Tech', \n",
    "            'Nepal Energy Tech', 'Nepal Water Tech', 'Nepal Construction Tech', \n",
    "            'Nepal Manufacturing Tech', 'Nepal Automotive Tech', \n",
    "            'Nepal Fashion Tech', 'Nepal Beauty Tech', 'Nepal Wellness Tech', \n",
    "            'Nepal Hospitality Tech', 'Nepal Real Estate Tech', \n",
    "            'Nepal Food Tech', 'Nepal Beverage Tech', 'Nepal Service Tech', \n",
    "            'Nepal Logistics Tech', 'Nepal Tech Labs', 'Nepal AI Solutions', \n",
    "            'Nepal Blockchain Solutions', 'Nepal IoT Solutions', \n",
    "            'Nepal Robotics Solutions', 'Nepal Big Data Solutions', \n",
    "            'Nepal Cloud Solutions', 'Nepal Cyber Solutions', 'Nepal IT Services', \n",
    "            'Nepal Digital Solutions', 'Nepal Software Development', \n",
    "            'Nepal App Development', 'Nepal Web Development', \n",
    "            'Nepal Network Solutions', 'Nepal E-commerce Development', \n",
    "            'Nepal Digital Marketing', 'Nepal SEO Services', \n",
    "            'Nepal Content Creation', 'Nepal Graphic Design', 'Nepal UX/UI Design'\n",
    "        ]\n",
    "        return random.choice(tech_companies)"
   ]
  },
  {
   "cell_type": "code",
   "execution_count": 12,
   "id": "ba0b54d6",
   "metadata": {},
   "outputs": [],
   "source": [
    "fake = Faker()\n",
    "fake.add_provider(NepaliTechCompanyProvider)"
   ]
  },
  {
   "cell_type": "code",
   "execution_count": 13,
   "id": "d348292e",
   "metadata": {},
   "outputs": [],
   "source": [
    "skills = ['Python', 'Java', 'C++', 'JavaScript', 'HTML', 'CSS', 'SQL', 'R', 'Machine Learning', 'Data Science']"
   ]
  },
  {
   "cell_type": "code",
   "execution_count": 14,
   "id": "9d39bbfd",
   "metadata": {},
   "outputs": [],
   "source": [
    "companies = []\n",
    "for _ in range(300):\n",
    "    company = {\n",
    "        'CompanyName': fake.tech_company(),\n",
    "        'RequiredSkills': random.sample(skills, k=random.randint(1, 5))\n",
    "    }\n",
    "    companies.append(company)"
   ]
  },
  {
   "cell_type": "code",
   "execution_count": 15,
   "id": "516db951",
   "metadata": {},
   "outputs": [],
   "source": [
    "companies_df = pd.DataFrame(companies)"
   ]
  },
  {
   "cell_type": "code",
   "execution_count": 16,
   "id": "d16a8a3a",
   "metadata": {},
   "outputs": [],
   "source": [
    "companies_df.to_csv('tech_companies_nepal.csv', index=False)"
   ]
  },
  {
   "cell_type": "markdown",
   "id": "35d022fd",
   "metadata": {},
   "source": [
    "# Working With manpower skill-sets"
   ]
  },
  {
   "cell_type": "code",
   "execution_count": 17,
   "id": "9f0d603a",
   "metadata": {},
   "outputs": [],
   "source": [
    "manpower = []\n",
    "for _ in range(50000):\n",
    "    person = {\n",
    "        'PersonID': fake.uuid4(),\n",
    "        'Skills': random.sample(skills, k=random.randint(1, 5))\n",
    "    }\n",
    "    manpower.append(person)"
   ]
  },
  {
   "cell_type": "code",
   "execution_count": 19,
   "id": "73273090",
   "metadata": {},
   "outputs": [],
   "source": [
    "manpower_df = pd.DataFrame(manpower)\n",
    "manpower_df.to_csv('manpower_skills.csv', index=False)"
   ]
  },
  {
   "cell_type": "markdown",
   "id": "c3cf5033",
   "metadata": {},
   "source": [
    "# Train with ML"
   ]
  },
  {
   "cell_type": "code",
   "execution_count": 20,
   "id": "a2d12ecb",
   "metadata": {},
   "outputs": [],
   "source": [
    "from sklearn.feature_extraction.text import CountVectorizer\n",
    "from sklearn.metrics.pairwise import cosine_similarity\n"
   ]
  },
  {
   "cell_type": "code",
   "execution_count": 21,
   "id": "fff0d347",
   "metadata": {},
   "outputs": [],
   "source": [
    "# Data preparation\n",
    "companies_df['RequiredSkillsStr'] = companies_df['RequiredSkills'].apply(lambda x: ' '.join(x))\n",
    "manpower_df['SkillsStr'] = manpower_df['Skills'].apply(lambda x: ' '.join(x))\n"
   ]
  },
  {
   "cell_type": "code",
   "execution_count": 22,
   "id": "8fa5809c",
   "metadata": {},
   "outputs": [],
   "source": [
    "# Vectorize the skill sets\n",
    "vectorizer = CountVectorizer()\n",
    "company_skill_matrix = vectorizer.fit_transform(companies_df['RequiredSkillsStr'])\n",
    "manpower_skill_matrix = vectorizer.transform(manpower_df['SkillsStr'])"
   ]
  },
  {
   "cell_type": "code",
   "execution_count": 23,
   "id": "5fb2b562",
   "metadata": {},
   "outputs": [],
   "source": [
    "similarity_matrix = cosine_similarity(manpower_skill_matrix, company_skill_matrix)"
   ]
  },
  {
   "cell_type": "code",
   "execution_count": 24,
   "id": "028f1f51",
   "metadata": {},
   "outputs": [],
   "source": [
    "job_assignments = []\n",
    "for person_idx in range(similarity_matrix.shape[0]):\n",
    "    best_match_idx = similarity_matrix[person_idx].argmax()\n",
    "    job_assignments.append({\n",
    "        'PersonID': manpower_df.iloc[person_idx]['PersonID'],\n",
    "        'CompanyName': companies_df.iloc[best_match_idx]['CompanyName'],\n",
    "        'MatchScore': similarity_matrix[person_idx, best_match_idx]\n",
    "    })"
   ]
  },
  {
   "cell_type": "code",
   "execution_count": 25,
   "id": "3819b911",
   "metadata": {},
   "outputs": [],
   "source": [
    "assignments_df = pd.DataFrame(job_assignments)\n",
    "\n",
    "assignments_df.to_csv('job_assignments.csv', index=False)"
   ]
  },
  {
   "cell_type": "code",
   "execution_count": null,
   "id": "262dbb3b",
   "metadata": {},
   "outputs": [],
   "source": []
  }
 ],
 "metadata": {
  "kernelspec": {
   "display_name": "Python 3 (ipykernel)",
   "language": "python",
   "name": "python3"
  },
  "language_info": {
   "codemirror_mode": {
    "name": "ipython",
    "version": 3
   },
   "file_extension": ".py",
   "mimetype": "text/x-python",
   "name": "python",
   "nbconvert_exporter": "python",
   "pygments_lexer": "ipython3",
   "version": "3.11.5"
  }
 },
 "nbformat": 4,
 "nbformat_minor": 5
}
