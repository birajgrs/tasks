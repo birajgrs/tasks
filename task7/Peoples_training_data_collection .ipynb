{
 "cells": [
  {
   "cell_type": "code",
   "execution_count": 1,
   "id": "a913eeca",
   "metadata": {},
   "outputs": [],
   "source": [
    "import csv"
   ]
  },
  {
   "cell_type": "code",
   "execution_count": 2,
   "id": "f9a4660c",
   "metadata": {},
   "outputs": [],
   "source": [
    "data = [\n",
    "    {\"Event\": \"Skill Fair 2081 BS\", \"Number of Youths Trained\": 1500, \"Additional Youths for Second Phase\": 1100, \"Training Start Date\": \"1st May 2024\", \"Training End Date\": \"31st May 2024\", \"Total Applicants\": 10000},\n",
    "    {\"Collaborating Organizations\": [\"Higher Institutions and Secondary Schools’ Association Nepal\", \"Nepal Training and Employment Association\", \"Various campuses and community schools\"], \"Number of Programs\": 36, \"Target Audience\": \"Youth aged 18-58\", \"Venue\": \"Tundikhel, Kathmandu\"},\n",
    "    {\"Program Duration\": \"1 week to 1 month\", \"Training Areas\": [\"Mobile Repair\", \"Computer Maintenance\", \"House Wiring\", \"Plumbing\", \"Automobile\", \"Construction\", \"Hospitality & Management\", \"Information & Technology\", \"Mechanical\", \"Art and Culture\", \"Tailoring\", \"Beautician\", \"Interior Designing\", \"Green Solutions\"]},\n",
    "    {\"Objectives\": [\"Increase employment opportunities\", \"Youth entrepreneurship\", \"Market demand oriented skilled workforce\"], \"Outcomes\": [\"Up-skilling community\", \"Creating vibrant learning space\", \"Increased access to vocational training\"]},\n",
    "    {\"Monitoring and Evaluation\": [\"Pre- and post-training assessments\", \"Track job placement rates\", \"Participant satisfaction surveys\"], \"Sustainability Plans\": [\"Referral network for graduates\", \"Online platform for job opportunities and continuing education\"]},\n",
    "]"
   ]
  },
  {
   "cell_type": "code",
   "execution_count": 3,
   "id": "b0ede15f",
   "metadata": {},
   "outputs": [],
   "source": [
    "csv_file = \"skill_fair_data.csv\""
   ]
  },
  {
   "cell_type": "code",
   "execution_count": 4,
   "id": "bebd6d8a",
   "metadata": {},
   "outputs": [],
   "source": [
    "fieldnames = [\n",
    "    \"Event\",\n",
    "    \"Number of Youths Trained\",\n",
    "    \"Additional Youths for Second Phase\",\n",
    "    \"Training Start Date\",\n",
    "    \"Training End Date\",\n",
    "    \"Total Applicants\",\n",
    "    \"Collaborating Organizations\",\n",
    "    \"Number of Programs\",\n",
    "    \"Target Audience\",\n",
    "    \"Venue\",\n",
    "    \"Program Duration\",\n",
    "    \"Training Areas\",\n",
    "    \"Objectives\",\n",
    "    \"Outcomes\",\n",
    "    \"Monitoring and Evaluation\",\n",
    "    \"Sustainability Plans\",\n",
    "]"
   ]
  },
  {
   "cell_type": "code",
   "execution_count": 5,
   "id": "e04c9928",
   "metadata": {},
   "outputs": [],
   "source": [
    "def list_to_string(lst):\n",
    "    return \"; \".join(lst) if isinstance(lst, list) else lst"
   ]
  },
  {
   "cell_type": "code",
   "execution_count": 6,
   "id": "cf1e3f28",
   "metadata": {},
   "outputs": [
    {
     "name": "stdout",
     "output_type": "stream",
     "text": [
      "Data has been written to skill_fair_data.csv\n"
     ]
    }
   ],
   "source": [
    "with open(csv_file, mode='w', newline='', encoding='utf-8') as file:\n",
    "    writer = csv.DictWriter(file, fieldnames=fieldnames)\n",
    "    writer.writeheader()\n",
    "    \n",
    "    for entry in data:\n",
    "        for key, value in entry.items():\n",
    "            entry[key] = list_to_string(value)\n",
    "        writer.writerow(entry)\n",
    "\n",
    "print(f\"Data has been written to {csv_file}\")"
   ]
  },
  {
   "cell_type": "code",
   "execution_count": null,
   "id": "bc0220ce",
   "metadata": {},
   "outputs": [],
   "source": []
  },
  {
   "cell_type": "code",
   "execution_count": null,
   "id": "a915c565",
   "metadata": {},
   "outputs": [],
   "source": []
  },
  {
   "cell_type": "code",
   "execution_count": null,
   "id": "32b2b994",
   "metadata": {},
   "outputs": [],
   "source": []
  },
  {
   "cell_type": "code",
   "execution_count": null,
   "id": "8c4d01d9",
   "metadata": {},
   "outputs": [],
   "source": []
  },
  {
   "cell_type": "code",
   "execution_count": null,
   "id": "8b66aec0",
   "metadata": {},
   "outputs": [],
   "source": []
  }
 ],
 "metadata": {
  "kernelspec": {
   "display_name": "Python 3 (ipykernel)",
   "language": "python",
   "name": "python3"
  },
  "language_info": {
   "codemirror_mode": {
    "name": "ipython",
    "version": 3
   },
   "file_extension": ".py",
   "mimetype": "text/x-python",
   "name": "python",
   "nbconvert_exporter": "python",
   "pygments_lexer": "ipython3",
   "version": "3.11.5"
  }
 },
 "nbformat": 4,
 "nbformat_minor": 5
}
