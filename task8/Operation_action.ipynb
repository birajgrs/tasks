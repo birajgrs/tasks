{
 "cells": [
  {
   "cell_type": "markdown",
   "id": "2eaf67de",
   "metadata": {},
   "source": [
    "# Variables {x}, {y}\n",
    "# Use action as {act}"
   ]
  },
  {
   "cell_type": "code",
   "execution_count": 1,
   "id": "a6a4b845",
   "metadata": {},
   "outputs": [],
   "source": [
    "import re\n",
    "import random"
   ]
  },
  {
   "cell_type": "code",
   "execution_count": 2,
   "id": "58fb7d16",
   "metadata": {},
   "outputs": [],
   "source": [
    "def Operation(x,y,act):\n",
    "    if act == 'sum':\n",
    "        return x+y\n",
    "    elif act == 'sub':\n",
    "        return x-y\n",
    "    else:\n",
    "        print(\" String not match\") "
   ]
  },
  {
   "cell_type": "code",
   "execution_count": 3,
   "id": "98c402f3",
   "metadata": {},
   "outputs": [],
   "source": [
    "# str1 = \"addition of 333 and 666.\"  \n",
    "str1=\"sum of 333 and 666.\"\n",
    "str2 = \"sub of 23 and 75.\""
   ]
  },
  {
   "cell_type": "code",
   "execution_count": 4,
   "id": "925f4caf",
   "metadata": {},
   "outputs": [],
   "source": [
    "pattern = r\"(sum|addition|add|plus|sub|subtract|minus|diff) of (\\d+) and (\\d+)\""
   ]
  },
  {
   "cell_type": "code",
   "execution_count": 5,
   "id": "9a9e0d6b",
   "metadata": {},
   "outputs": [],
   "source": [
    "# Perform with actions\n",
    "\n",
    "def Action(action):\n",
    "    if action in ['sum', 'addition', 'add','plus']:\n",
    "        return 'sum'\n",
    "    elif action in ['sub', 'subtract', 'minus','diff']:\n",
    "        return 'sub'\n",
    "    else:\n",
    "        return None"
   ]
  },
  {
   "cell_type": "code",
   "execution_count": 6,
   "id": "f964660e",
   "metadata": {},
   "outputs": [
    {
     "name": "stdout",
     "output_type": "stream",
     "text": [
      "The result of sum of 333 and 666 is: 999\n",
      "The result of sub of 23 and 75 is: -52\n"
     ]
    }
   ],
   "source": [
    "for input_str in [str1, str2]:\n",
    "    match = re.search(pattern, input_str)\n",
    "    if match:\n",
    "        act = Action(match.group(1))\n",
    "        x = int(match.group(2))\n",
    "        y = int(match.group(3))\n",
    "\n",
    "        if random.random() < 0.9:\n",
    "            result = Operation(x, y, act)\n",
    "            if result is not None:\n",
    "                print(f\"The result of {act} of {x} and {y} is: {result}\")\n",
    "        else:\n",
    "            print(f\" Unable to perform on given operation'{input_str}'\")\n",
    "    else:\n",
    "        print(\"Input string not match\")"
   ]
  },
  {
   "cell_type": "code",
   "execution_count": null,
   "id": "c138d85a",
   "metadata": {},
   "outputs": [],
   "source": []
  }
 ],
 "metadata": {
  "kernelspec": {
   "display_name": "Python 3 (ipykernel)",
   "language": "python",
   "name": "python3"
  },
  "language_info": {
   "codemirror_mode": {
    "name": "ipython",
    "version": 3
   },
   "file_extension": ".py",
   "mimetype": "text/x-python",
   "name": "python",
   "nbconvert_exporter": "python",
   "pygments_lexer": "ipython3",
   "version": "3.11.5"
  }
 },
 "nbformat": 4,
 "nbformat_minor": 5
}
