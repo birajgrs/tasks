{
 "cells": [
  {
   "cell_type": "markdown",
   "id": "2eaf67de",
   "metadata": {},
   "source": [
    "# Variables {x}, {y}\n",
    "# Use action as {act}"
   ]
  },
  {
   "cell_type": "code",
   "execution_count": 10,
   "id": "a6a4b845",
   "metadata": {},
   "outputs": [],
   "source": [
    "import re\n",
    "import random"
   ]
  },
  {
   "cell_type": "code",
   "execution_count": 11,
   "id": "58fb7d16",
   "metadata": {},
   "outputs": [],
   "source": [
    "def Operation(x, y, act):\n",
    "    try:\n",
    "        operations = {\n",
    "            'sum': x + y,\n",
    "            'sub': x - y,\n",
    "            'mul': x * y,\n",
    "            'div': x / y if y != 0 else 'Division by zero error',\n",
    "            'mod': x % y if y != 0 else 'Modulo by zero error',\n",
    "            'exp': x ** y,\n",
    "            'floordiv': x // y if y != 0 else 'Floor division by zero error'\n",
    "        }\n",
    "        return operations.get(act, \"String not match\")\n",
    "    except Exception as e:\n",
    "        return str(e)"
   ]
  },
  {
   "cell_type": "code",
   "execution_count": 12,
   "id": "98c402f3",
   "metadata": {},
   "outputs": [],
   "source": [
    "def SingleOperation(x, act):\n",
    "    single_operations = {\n",
    "        'abs': abs(x),\n",
    "        'neg': -x\n",
    "    }\n",
    "    return single_operations.get(act, \"String not match\")"
   ]
  },
  {
   "cell_type": "code",
   "execution_count": 13,
   "id": "925f4caf",
   "metadata": {},
   "outputs": [],
   "source": [
    "def Action(action):\n",
    "    action_map = {\n",
    "        'sum': 'sum', 'addition': 'sum', 'add': 'sum', 'plus': 'sum',\n",
    "        'sub': 'sub', 'subtract': 'sub', 'minus': 'sub', 'diff': 'sub',\n",
    "        'mul': 'mul', 'multiply': 'mul', 'times': 'mul', 'product': 'mul',\n",
    "        'div': 'div', 'divide': 'div', 'division': 'div',\n",
    "        'mod': 'mod', 'modulus': 'mod', 'remainder': 'mod',\n",
    "        'exp': 'exp', 'exponentiate': 'exp', 'power': 'exp',\n",
    "        'floordiv': 'floordiv', 'floordivide': 'floordiv', 'floor division': 'floordiv',\n",
    "        'abs': 'abs', 'absolute': 'abs',\n",
    "        'neg': 'neg', 'negate': 'neg'\n",
    "    }\n",
    "    return action_map.get(action)"
   ]
  },
  {
   "cell_type": "code",
   "execution_count": 14,
   "id": "9a9e0d6b",
   "metadata": {},
   "outputs": [],
   "source": [
    "binary_pattern = r\"(sum|addition|add|plus|sub|subtract|minus|diff|mul|multiply|times|product|div|divide|division|mod|modulus|remainder|exp|exponentiate|power|floordiv|floordivide|floor division) of (\\d+) and (\\d+)\"\n",
    "unary_pattern = r\"(abs|absolute|neg|negate) of (\\d+)\""
   ]
  },
  {
   "cell_type": "code",
   "execution_count": 15,
   "id": "f964660e",
   "metadata": {},
   "outputs": [],
   "source": [
    "input_strings = [\n",
    "    \"sum of 333 and 666.\",\n",
    "    \"sub of 23 and 75.\",\n",
    "    \"plus of 10 and 20\",\n",
    "    \"multiply of 5 and 4\",\n",
    "    \"divide of 10 and 2\",\n",
    "    \"modulus of 10 and 3\",\n",
    "    \"power of 2 and 3\",\n",
    "    \"floordivide of 10 and 3\",\n",
    "    \"absolute of -10\",\n",
    "    \"negate of 10\"\n",
    "]"
   ]
  },
  {
   "cell_type": "code",
   "execution_count": 16,
   "id": "c138d85a",
   "metadata": {},
   "outputs": [
    {
     "name": "stdout",
     "output_type": "stream",
     "text": [
      "The result of sum of 333 and 666 is: 999\n",
      "The result of sub of 23 and 75 is: -52\n",
      "The result of sum of 10 and 20 is: 30\n",
      "The result of mul of 5 and 4 is: 20\n",
      "The result of div of 10 and 2 is: 5.0\n",
      "The result of mod of 10 and 3 is: 1\n",
      "The result of exp of 2 and 3 is: 8\n",
      "The result of floordiv of 10 and 3 is: 3\n",
      "Unable to perform operation on 'absolute of -10'\n",
      "The result of neg of 10 is: -10\n"
     ]
    }
   ],
   "source": [
    "for input_str in input_strings:\n",
    "    if random.random() < 0.9:\n",
    "        binary_match = re.search(binary_pattern, input_str)\n",
    "        unary_match = re.search(unary_pattern, input_str)\n",
    "        \n",
    "        if binary_match:\n",
    "            act = Action(binary_match.group(1))\n",
    "            x, y = int(binary_match.group(2)), int(binary_match.group(3))\n",
    "            result = Operation(x, y, act)\n",
    "            print(f\"The result of {act} of {x} and {y} is: {result}\")\n",
    "        \n",
    "        elif unary_match:\n",
    "            act = Action(unary_match.group(1))\n",
    "            x = int(unary_match.group(2))\n",
    "            result = SingleOperation(x, act)\n",
    "            print(f\"The result of {act} of {x} is: {result}\")\n",
    "        \n",
    "        else:\n",
    "            print(\"Input string not matched.\")\n",
    "    else:\n",
    "        print(f\"Unable to perform operation on '{input_str}'\")"
   ]
  },
  {
   "cell_type": "code",
   "execution_count": 17,
   "id": "dcd27a0b",
   "metadata": {},
   "outputs": [],
   "source": [
    "def perform_operation(input_str):\n",
    "    binary_match = re.search(binary_pattern, input_str)\n",
    "    unary_match = re.search(unary_pattern, input_str)\n",
    "    \n",
    "    if binary_match:\n",
    "        act = Action(binary_match.group(1))\n",
    "        x, y = int(binary_match.group(2)), int(binary_match.group(3))\n",
    "        result = Operation(x, y, act)\n",
    "        print(f\"The result of {act} of {x} and {y} is: {result}\")\n",
    "    \n",
    "    elif unary_match:\n",
    "        act = Action(unary_match.group(1))\n",
    "        x = int(unary_match.group(2))\n",
    "        result = SingleOperation(x, act)\n",
    "        print(f\"The result of {act} of {x} is: {result}\")\n",
    "    \n",
    "    else:\n",
    "        print(\"Input string not matched.\")"
   ]
  },
  {
   "cell_type": "code",
   "execution_count": 18,
   "id": "c59424e8",
   "metadata": {},
   "outputs": [
    {
     "name": "stdout",
     "output_type": "stream",
     "text": [
      "Enter a mathematical operation (or 'exit' to quit): sum of 5 and 5.\n",
      "The result of sum of 5 and 5 is: 10\n",
      "Enter a mathematical operation (or 'exit' to quit): exit\n",
      "Exiting...\n"
     ]
    }
   ],
   "source": [
    "def main():\n",
    "    while True:\n",
    "        user_input = input(\"Enter a mathematical operation (or 'exit' to quit): \")\n",
    "        if user_input.lower() == 'exit':\n",
    "            print(\"Exiting...\")\n",
    "            break\n",
    "        elif random.random() < 0.9:\n",
    "            perform_operation(user_input)\n",
    "        else:\n",
    "            print(f\"Unable to perform operation on '{user_input}'\")\n",
    "\n",
    "if __name__ == \"__main__\":\n",
    "    main()"
   ]
  },
  {
   "cell_type": "code",
   "execution_count": null,
   "id": "90c9da0d",
   "metadata": {},
   "outputs": [],
   "source": []
  }
 ],
 "metadata": {
  "kernelspec": {
   "display_name": "Python 3 (ipykernel)",
   "language": "python",
   "name": "python3"
  },
  "language_info": {
   "codemirror_mode": {
    "name": "ipython",
    "version": 3
   },
   "file_extension": ".py",
   "mimetype": "text/x-python",
   "name": "python",
   "nbconvert_exporter": "python",
   "pygments_lexer": "ipython3",
   "version": "3.11.5"
  }
 },
 "nbformat": 4,
 "nbformat_minor": 5
}
