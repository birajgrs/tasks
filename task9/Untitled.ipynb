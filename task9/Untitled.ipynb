{
 "cells": [
  {
   "cell_type": "code",
   "execution_count": 1,
   "id": "48984491",
   "metadata": {},
   "outputs": [],
   "source": [
    "import pandas as pd\n",
    "import random\n",
    "import re\n",
    "import nltk\n",
    "from sklearn.feature_extraction.text import TfidfVectorizer\n",
    "from sklearn.cluster import KMeans"
   ]
  },
  {
   "cell_type": "code",
   "execution_count": 2,
   "id": "47a8674a",
   "metadata": {},
   "outputs": [
    {
     "name": "stderr",
     "output_type": "stream",
     "text": [
      "[nltk_data] Downloading package punkt to\n",
      "[nltk_data]     C:\\Users\\biraj\\AppData\\Roaming\\nltk_data...\n",
      "[nltk_data]   Package punkt is already up-to-date!\n"
     ]
    },
    {
     "data": {
      "text/plain": [
       "True"
      ]
     },
     "execution_count": 2,
     "metadata": {},
     "output_type": "execute_result"
    }
   ],
   "source": [
    "nltk.download('punkt')"
   ]
  },
  {
   "cell_type": "code",
   "execution_count": 3,
   "id": "6459b4bf",
   "metadata": {},
   "outputs": [],
   "source": [
    "products = [\n",
    "    {\"Product Name\": \"Red Chillies Powder\", \"Color\": \"Red\", \"Cost\": 50, \"Quantity\": 100, \"Shape\": \"Powder\", \"Size\": \"Small\"},\n",
    "    {\"Product Name\": \"Turmeric Powder\", \"Color\": \"Yellow\", \"Cost\": 40, \"Quantity\": 150, \"Shape\": \"Powder\", \"Size\": \"Small\"},\n",
    "    {\"Product Name\": \"Wheat Flour\", \"Color\": \"Brown\", \"Cost\": 30, \"Quantity\": 200, \"Shape\": \"Powder\", \"Size\": \"Medium\"},\n",
    "    {\"Product Name\": \"Sugar\", \"Color\": \"White\", \"Cost\": 20, \"Quantity\": 300, \"Shape\": \"Grain\", \"Size\": \"Medium\"},\n",
    "    {\"Product Name\": \"Green Peas\", \"Color\": \"Green\", \"Cost\": 25, \"Quantity\": 250, \"Shape\": \"Whole\", \"Size\": \"Small\"},\n",
    "    {\"Product Name\": \"Olive Oil\", \"Color\": \"Green\", \"Cost\": 100, \"Quantity\": 50, \"Shape\": \"Liquid\", \"Size\": \"Large\"},\n",
    "    {\"Product Name\": \"Tomato Ketchup\", \"Color\": \"Red\", \"Cost\": 60, \"Quantity\": 150, \"Shape\": \"Liquid\", \"Size\": \"Medium\"},\n",
    "    {\"Product Name\": \"Brown Rice\", \"Color\": \"Brown\", \"Cost\": 80, \"Quantity\": 180, \"Shape\": \"Grain\", \"Size\": \"Large\"},\n",
    "    {\"Product Name\": \"Apple\", \"Color\": \"Red\", \"Cost\": 30, \"Quantity\": 80, \"Shape\": \"Whole\", \"Size\": \"Medium\"},\n",
    "    {\"Product Name\": \"Orange Juice\", \"Color\": \"Orange\", \"Cost\": 50, \"Quantity\": 100, \"Shape\": \"Liquid\", \"Size\": \"Medium\"},\n",
    "    {\"Product Name\": \"Carrot\", \"Color\": \"Orange\", \"Cost\": 20, \"Quantity\": 90, \"Shape\": \"Whole\", \"Size\": \"Medium\"},\n",
    "    {\"Product Name\": \"Milk\", \"Color\": \"White\", \"Cost\": 40, \"Quantity\": 200, \"Shape\": \"Liquid\", \"Size\": \"Large\"},\n",
    "    {\"Product Name\": \"Butter\", \"Color\": \"Yellow\", \"Cost\": 70, \"Quantity\": 60, \"Shape\": \"Solid\", \"Size\": \"Small\"},\n",
    "    {\"Product Name\": \"Cheese\", \"Color\": \"Yellow\", \"Cost\": 80, \"Quantity\": 70, \"Shape\": \"Solid\", \"Size\": \"Medium\"},\n",
    "    {\"Product Name\": \"Broccoli\", \"Color\": \"Green\", \"Cost\": 40, \"Quantity\": 110, \"Shape\": \"Whole\", \"Size\": \"Medium\"},\n",
    "    {\"Product Name\": \"Onion\", \"Color\": \"White\", \"Cost\": 10, \"Quantity\": 300, \"Shape\": \"Whole\", \"Size\": \"Small\"},\n",
    "    {\"Product Name\": \"Garlic\", \"Color\": \"White\", \"Cost\": 15, \"Quantity\": 250, \"Shape\": \"Whole\", \"Size\": \"Small\"},\n",
    "    {\"Product Name\": \"Chicken Breast\", \"Color\": \"White\", \"Cost\": 150, \"Quantity\": 100, \"Shape\": \"Solid\", \"Size\": \"Large\"},\n",
    "    {\"Product Name\": \"Ginger\", \"Color\": \"Brown\", \"Cost\": 30, \"Quantity\": 100, \"Shape\": \"Whole\", \"Size\": \"Small\"},\n",
    "    {\"Product Name\": \"Lemon\", \"Color\": \"Yellow\", \"Cost\": 20, \"Quantity\": 200, \"Shape\": \"Whole\", \"Size\": \"Small\"},\n",
    "    {\"Product Name\": \"Banana\", \"Color\": \"Yellow\", \"Cost\": 10, \"Quantity\": 300, \"Shape\": \"Whole\", \"Size\": \"Medium\"},\n",
    "    {\"Product Name\": \"Cucumber\", \"Color\": \"Green\", \"Cost\": 15, \"Quantity\": 250, \"Shape\": \"Whole\", \"Size\": \"Medium\"},\n",
    "    {\"Product Name\": \"Bell Pepper\", \"Color\": \"Red\", \"Cost\": 25, \"Quantity\": 200, \"Shape\": \"Whole\", \"Size\": \"Medium\"},\n",
    "    {\"Product Name\": \"Potato\", \"Color\": \"Brown\", \"Cost\": 10, \"Quantity\": 300, \"Shape\": \"Whole\", \"Size\": \"Medium\"},\n",
    "    {\"Product Name\": \"Tomato\", \"Color\": \"Red\", \"Cost\": 15, \"Quantity\": 250, \"Shape\": \"Whole\", \"Size\": \"Small\"},\n",
    "    {\"Product Name\": \"Mango\", \"Color\": \"Orange\", \"Cost\": 50, \"Quantity\": 100, \"Shape\": \"Whole\", \"Size\": \"Medium\"},\n",
    "    {\"Product Name\": \"Papaya\", \"Color\": \"Orange\", \"Cost\": 60, \"Quantity\": 80, \"Shape\": \"Whole\", \"Size\": \"Large\"},\n",
    "    {\"Product Name\": \"Strawberry\", \"Color\": \"Red\", \"Cost\": 30, \"Quantity\": 120, \"Shape\": \"Whole\", \"Size\": \"Small\"},\n",
    "    {\"Product Name\": \"Blueberry\", \"Color\": \"Blue\", \"Cost\": 40, \"Quantity\": 150, \"Shape\": \"Whole\", \"Size\": \"Small\"},\n",
    "    {\"Product Name\": \"Almonds\", \"Color\": \"Brown\", \"Cost\": 100, \"Quantity\": 60, \"Shape\": \"Grain\", \"Size\": \"Small\"},\n",
    "    {\"Product Name\": \"Cashews\", \"Color\": \"White\", \"Cost\": 120, \"Quantity\": 50, \"Shape\": \"Grain\", \"Size\": \"Small\"},\n",
    "    {\"Product Name\": \"Walnuts\", \"Color\": \"Brown\", \"Cost\": 150, \"Quantity\": 40, \"Shape\": \"Grain\", \"Size\": \"Small\"},\n",
    "    {\"Product Name\": \"Peanut Butter\", \"Color\": \"Brown\", \"Cost\": 80, \"Quantity\": 70, \"Shape\": \"Solid\", \"Size\": \"Medium\"},\n",
    "    {\"Product Name\": \"Honey\", \"Color\": \"Brown\", \"Cost\": 60, \"Quantity\": 100, \"Shape\": \"Liquid\", \"Size\": \"Medium\"},\n",
    "    {\"Product Name\": \"Maple Syrup\", \"Color\": \"Brown\", \"Cost\": 70, \"Quantity\": 90, \"Shape\": \"Liquid\", \"Size\": \"Medium\"},\n",
    "    {\"Product Name\": \"Coconut Oil\", \"Color\": \"White\", \"Cost\": 90, \"Quantity\": 60, \"Shape\": \"Liquid\", \"Size\": \"Large\"},\n",
    "    {\"Product Name\": \"Sunflower Oil\", \"Color\": \"Yellow\", \"Cost\": 80, \"Quantity\": 70, \"Shape\": \"Liquid\", \"Size\": \"Large\"},\n",
    "    {\"Product Name\": \"Soy Milk\", \"Color\": \"White\", \"Cost\": 40, \"Quantity\": 200, \"Shape\": \"Liquid\", \"Size\": \"Large\"},\n",
    "    {\"Product Name\": \"Almond Milk\", \"Color\": \"White\", \"Cost\": 50, \"Quantity\": 150, \"Shape\": \"Liquid\", \"Size\": \"Large\"},\n",
    "    {\"Product Name\": \"Tofu\", \"Color\": \"White\", \"Cost\": 30, \"Quantity\": 100, \"Shape\": \"Solid\", \"Size\": \"Medium\"},\n",
    "    {\"Product Name\": \"Chia Seeds\", \"Color\": \"Black\", \"Cost\": 100, \"Quantity\": 60, \"Shape\": \"Grain\", \"Size\": \"Small\"},\n",
    "    {\"Product Name\": \"Quinoa\", \"Color\": \"White\", \"Cost\": 70, \"Quantity\": 90, \"Shape\": \"Grain\", \"Size\": \"Small\"},\n",
    "    {\"Product Name\": \"Couscous\", \"Color\": \"Yellow\", \"Cost\": 50, \"Quantity\": 100, \"Shape\": \"Grain\", \"Size\": \"Small\"},\n",
    "    {\"Product Name\": \"Oats\", \"Color\": \"White\", \"Cost\": 40, \"Quantity\": 150, \"Shape\": \"Grain\", \"Size\": \"Medium\"},\n",
    "    {\"Product Name\": \"Cornflakes\", \"Color\": \"Yellow\", \"Cost\": 30, \"Quantity\": 200, \"Shape\": \"Grain\", \"Size\": \"Medium\"},\n",
    "    {\"Product Name\": \"Pasta\", \"Color\": \"Yellow\", \"Cost\": 50, \"Quantity\": 100, \"Shape\": \"Solid\", \"Size\": \"Medium\"},\n",
    "    {\"Product Name\": \"Noodles\", \"Color\": \"Yellow\", \"Cost\": 40, \"Quantity\": 150, \"Shape\": \"Solid\", \"Size\": \"Medium\"},\n",
    "    {\"Product Name\": \"Spaghetti\", \"Color\": \"Yellow\", \"Cost\": 50, \"Quantity\": 100, \"Shape\": \"Solid\", \"Size\": \"Medium\"},\n",
    "    {\"Product Name\": \"Bread\", \"Color\": \"Brown\", \"Cost\": 20, \"Quantity\": 200, \"Shape\": \"Solid\", \"Size\": \"Medium\"},\n",
    "    {\"Product Name\": \"Bagel\", \"Color\": \"Brown\", \"Cost\": 25, \"Quantity\": 150, \"Shape\": \"Solid\", \"Size\": \"Small\"},\n",
    "    {\"Product Name\": \"Croissant\", \"Color\": \"Brown\", \"Cost\": 30, \"Quantity\": 120, \"Shape\": \"Solid\", \"Size\": \"Small\"},\n",
    "    {\"Product Name\": \"Muffin\", \"Color\": \"Brown\", \"Cost\": 40, \"Quantity\": 100, \"Shape\": \"Solid\", \"Size\": \"Small\"},\n",
    "    {\"Product Name\": \"Chocolate Bar\", \"Color\": \"Brown\", \"Cost\": 50, \"Quantity\": 100, \"Shape\": \"Solid\", \"Size\": \"Small\"},\n",
    "    {\"Product Name\": \"Ice Cream\", \"Color\": \"White\", \"Cost\": 60, \"Quantity\": 80, \"Shape\": \"Solid\", \"Size\": \"Medium\"}\n",
    "]\n",
    "\n",
    "\n",
    "colors = [\"Red\", \"Yellow\", \"Brown\", \"White\", \"Green\", \"Orange\"]\n",
    "shapes = [\"Powder\", \"Grain\", \"Whole\", \"Liquid\", \"Solid\"]\n",
    "sizes = [\"Small\", \"Medium\", \"Large\"]"
   ]
  },
  {
   "cell_type": "code",
   "execution_count": 9,
   "id": "05ee06a8",
   "metadata": {},
   "outputs": [],
   "source": [
    "for i in range(50):\n",
    "    product = {\n",
    "        \"Product Name\": f\"Product {i+4}\",\n",
    "        \"Color\": random.choice(colors),\n",
    "        \"Cost\": random.randint(10, 100),\n",
    "        \"Quantity\": random.randint(50, 500),\n",
    "        \"Shape\": random.choice(shapes),\n",
    "        \"Size\": random.choice(sizes)\n",
    "    }\n",
    "    products.append(product)\n",
    "    "
   ]
  },
  {
   "cell_type": "code",
   "execution_count": 10,
   "id": "b8461723",
   "metadata": {},
   "outputs": [],
   "source": [
    "df = pd.DataFrame(products)\n",
    "df.to_csv('grocery_products.csv', index=False)"
   ]
  },
  {
   "cell_type": "code",
   "execution_count": 11,
   "id": "201f5279",
   "metadata": {},
   "outputs": [],
   "source": [
    "def get_random_product():\n",
    "    return random.choice(products)\n",
    "\n",
    "def preprocess_data(products):\n",
    "    df = pd.DataFrame(products)\n",
    "    return df"
   ]
  },
  {
   "cell_type": "code",
   "execution_count": 12,
   "id": "e4e08677",
   "metadata": {},
   "outputs": [],
   "source": [
    "def cluster_products(df):\n",
    "    if len(df) < 5:\n",
    "        return \"Not enough products to form 5 clusters.\"\n",
    "    tfidf = TfidfVectorizer(stop_words='english')\n",
    "    features = tfidf.fit_transform(df['Product Name'])\n",
    "    kmeans = KMeans(n_clusters=5, random_state=42)\n",
    "    df['Cluster'] = kmeans.fit_predict(features)\n",
    "    return df"
   ]
  },
  {
   "cell_type": "code",
   "execution_count": 17,
   "id": "5280018b",
   "metadata": {},
   "outputs": [],
   "source": [
    "def classify_product(query):\n",
    "    # Extract keywords from the query\n",
    "    query = query.lower()\n",
    "    color = None\n",
    "    shape = None\n",
    "    size = None\n",
    "    for c in colors:\n",
    "        if c.lower() in query:\n",
    "            color = c\n",
    "            break\n",
    "    for s in shapes:\n",
    "        if s.lower() in query:\n",
    "            shape = s\n",
    "            break\n",
    "    for sz in sizes:\n",
    "        if sz.lower() in query:\n",
    "            size = sz\n",
    "            break\n",
    "\n",
    "    # Filter products based on the extracted keywords\n",
    "    filtered_df = df\n",
    "    if color:\n",
    "        filtered_df = filtered_df[filtered_df['Color'] == color]\n",
    "    if shape:\n",
    "        filtered_df = filtered_df[filtered_df['Shape'] == shape]\n",
    "    if size:\n",
    "        filtered_df = filtered_df[filtered_df['Size'] == size]\n",
    "\n",
    "    return filtered_df"
   ]
  },
  {
   "cell_type": "code",
   "execution_count": 18,
   "id": "63564c88",
   "metadata": {},
   "outputs": [
    {
     "name": "stdout",
     "output_type": "stream",
     "text": [
      "Product selected for purchase: {'Product Name': 'Product 20', 'Color': 'Yellow', 'Cost': 88, 'Quantity': 292, 'Shape': 'Whole', 'Size': 'Small'}\n"
     ]
    }
   ],
   "source": [
    "product = get_random_product()\n",
    "print(\"Product selected for purchase:\", product)\n"
   ]
  },
  {
   "cell_type": "code",
   "execution_count": 19,
   "id": "54243ccd",
   "metadata": {},
   "outputs": [
    {
     "name": "stdout",
     "output_type": "stream",
     "text": [
      "DataFrame created from products:           Product Name   Color  Cost  Quantity   Shape    Size\n",
      "0  Red Chillies Powder     Red    50       100  Powder   Small\n",
      "1      Turmeric Powder  Yellow    40       150  Powder   Small\n",
      "2          Wheat Flour   Brown    30       200  Powder  Medium\n",
      "3                Sugar   White    20       300   Grain  Medium\n",
      "4           Green Peas   Green    25       250   Whole   Small\n"
     ]
    }
   ],
   "source": [
    "df = preprocess_data(products)\n",
    "print(\"DataFrame created from products:\", df.head())"
   ]
  },
  {
   "cell_type": "code",
   "execution_count": 20,
   "id": "9c7af029",
   "metadata": {},
   "outputs": [
    {
     "name": "stdout",
     "output_type": "stream",
     "text": [
      "Clustered DataFrame:           Product Name   Color  Cost  Quantity   Shape    Size  Cluster\n",
      "0  Red Chillies Powder     Red    50       100  Powder   Small        2\n",
      "1      Turmeric Powder  Yellow    40       150  Powder   Small        2\n",
      "2          Wheat Flour   Brown    30       200  Powder  Medium        2\n",
      "3                Sugar   White    20       300   Grain  Medium        2\n",
      "4           Green Peas   Green    25       250   Whole   Small        2\n"
     ]
    }
   ],
   "source": [
    "clustering_result = cluster_products(df)\n",
    "if isinstance(clustering_result, str):\n",
    "    print(clustering_result)\n",
    "else:\n",
    "    print(\"Clustered DataFrame:\", clustering_result.head())\n"
   ]
  },
  {
   "cell_type": "code",
   "execution_count": 21,
   "id": "d5f7b189",
   "metadata": {},
   "outputs": [
    {
     "name": "stdout",
     "output_type": "stream",
     "text": [
      "Products matching the query:             Product Name Color  Cost  Quantity   Shape    Size  Cluster\n",
      "0    Red Chillies Powder   Red    50       100  Powder   Small        2\n",
      "71            Product 21   Red    96       283  Powder   Small        0\n",
      "84            Product 34   Red    54       179  Powder   Small        0\n",
      "109            Product 9   Red    56       114  Powder   Small        0\n",
      "160           Product 10   Red    76       323  Powder   Small        0\n",
      "187           Product 37   Red    19       213  Powder  Medium        0\n"
     ]
    }
   ],
   "source": [
    "query = \"Give me some red powder\"\n",
    "category = classify_product(query)\n",
    "print(\"Products matching the query:\", category)"
   ]
  },
  {
   "cell_type": "code",
   "execution_count": null,
   "id": "824cf9aa",
   "metadata": {},
   "outputs": [],
   "source": []
  },
  {
   "cell_type": "code",
   "execution_count": null,
   "id": "d216d630",
   "metadata": {},
   "outputs": [],
   "source": []
  }
 ],
 "metadata": {
  "kernelspec": {
   "display_name": "Python 3 (ipykernel)",
   "language": "python",
   "name": "python3"
  },
  "language_info": {
   "codemirror_mode": {
    "name": "ipython",
    "version": 3
   },
   "file_extension": ".py",
   "mimetype": "text/x-python",
   "name": "python",
   "nbconvert_exporter": "python",
   "pygments_lexer": "ipython3",
   "version": "3.11.5"
  }
 },
 "nbformat": 4,
 "nbformat_minor": 5
}
